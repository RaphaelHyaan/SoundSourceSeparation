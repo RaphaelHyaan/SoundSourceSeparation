{
 "cells": [
  {
   "cell_type": "code",
   "execution_count": 1,
   "id": "00282685",
   "metadata": {},
   "outputs": [],
   "source": [
    "import numpy as np\n",
    "import pandas as pd\n",
    "\n",
    "def vectors_to_diagonal_matrices_and_save_to_excel(vectors, output_filename='diagonal_matrices.xlsx'):\n",
    "    \"\"\"\n",
    "    将一组向量转换为对角矩阵，并将它们保存到Excel文件的不同工作表中。\n",
    "\n",
    "    参数:\n",
    "    vectors (list of lists or np.ndarray): 包含向量的列表。\n",
    "    output_filename (str): 输出的Excel文件名。\n",
    "    \"\"\"\n",
    "    try:\n",
    "        # 使用pandas的ExcelWriter，这样可以将多个DataFrame写入同一个Excel文件的不同sheet\n",
    "        with pd.ExcelWriter(output_filename, engine='openpyxl') as writer:\n",
    "            \n",
    "            # 遍历每一个输入的向量\n",
    "            for i, vec in enumerate(vectors):\n",
    "                # 1. 将列表转换为Numpy数组\n",
    "                np_vec = np.array(vec)\n",
    "                \n",
    "                # 2. 使用np.diag()创建对角矩阵\n",
    "                diag_matrix = np.diag(np_vec)\n",
    "                \n",
    "                # 3. 将矩阵中的所有元素四舍五入，保留两位小数\n",
    "                diag_matrix_rounded = np.round(diag_matrix, 2)\n",
    "                \n",
    "                # 4. 将处理后的Numpy矩阵转换为Pandas DataFrame，以便写入Excel\n",
    "                # DataFrame的行和列索引会自动从0开始\n",
    "                df = pd.DataFrame(diag_matrix_rounded)\n",
    "                \n",
    "                # 5. 将DataFrame写入Excel的一个新工作表 (sheet)\n",
    "                # 工作表命名为 'Matrix_1', 'Matrix_2', ...\n",
    "                sheet_name = f'Matrix_{i + 1}'\n",
    "                df.to_excel(writer, sheet_name=sheet_name, index=False, header=False)\n",
    "                \n",
    "                print(f\"向量 {i+1} 已成功转换为对角矩阵，并保存至工作表 '{sheet_name}'。\")\n",
    "        \n",
    "        print(f\"\\n所有矩阵已成功保存到文件: '{output_filename}'\")\n",
    "\n",
    "    except Exception as e:\n",
    "        print(f\"处理过程中发生错误: {e}\")\n",
    "\n"
   ]
  },
  {
   "cell_type": "code",
   "execution_count": 2,
   "id": "f385f19f",
   "metadata": {},
   "outputs": [
    {
     "name": "stdout",
     "output_type": "stream",
     "text": [
      "向量 1 已成功转换为对角矩阵，并保存至工作表 'Matrix_1'。\n",
      "向量 2 已成功转换为对角矩阵，并保存至工作表 'Matrix_2'。\n",
      "向量 3 已成功转换为对角矩阵，并保存至工作表 'Matrix_3'。\n",
      "\n",
      "所有矩阵已成功保存到文件: 'diagonal_matrices.xlsx'\n"
     ]
    }
   ],
   "source": [
    "# 1. 定义输入的三个向量\n",
    "input_vectors = [\n",
    "    [1.00084891e+00, 7.37430592e-10, 2.33412959e-10, 3.67730666e-09],\n",
    "    [3.45095592e-02, 2.55967045e-01, 5.68496599e-01, 1.45727724e-01],\n",
    "    [2.49801820e-02, 3.83601404e-01, 1.16417805e-01, 4.82121102e-01]\n",
    "]\n",
    "\n",
    "# 2. 调用函数执行转换和保存\n",
    "vectors_to_diagonal_matrices_and_save_to_excel(input_vectors)"
   ]
  }
 ],
 "metadata": {
  "kernelspec": {
   "display_name": "sss",
   "language": "python",
   "name": "python3"
  },
  "language_info": {
   "codemirror_mode": {
    "name": "ipython",
    "version": 3
   },
   "file_extension": ".py",
   "mimetype": "text/x-python",
   "name": "python",
   "nbconvert_exporter": "python",
   "pygments_lexer": "ipython3",
   "version": "3.8.20"
  }
 },
 "nbformat": 4,
 "nbformat_minor": 5
}
